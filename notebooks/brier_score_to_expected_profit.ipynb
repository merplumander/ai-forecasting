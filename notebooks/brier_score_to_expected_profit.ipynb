{
 "cells": [
  {
   "cell_type": "markdown",
   "metadata": {},
   "source": [
    "# Going from differences in Brier score to expected profit\n",
    "\n",
    "## Expected profit\n",
    "My probability is $p$.\n",
    "Market's probability is $q$.\n",
    "\n",
    "If you believe the event is more likely than the market does ($p>q$), you can buy contracts.   \n",
    "Payoff iff event occurs is: $1 - q$   \n",
    "Payoff iff event does not occur: $-q$\n",
    "\n",
    "\n",
    "Expected profit is:\n",
    "$p (1-q) + (1-p) (-q) = p - q$\n",
    "\n",
    "Reverse holds if ($q>p$). Then you sell contracts and the expected profit is $q - p$.\n",
    "\n",
    "So in general the expected profit is $|p - q|$"
   ]
  },
  {
   "cell_type": "markdown",
   "metadata": {},
   "source": [
    "Claim: expected profit is square root of differences in Brier score.\n",
    "$EP = \\sqrt{BS_{market} - BS_{you}}$\n",
    "if you are well calibrated. A.k.a. your probability $p$ is how often that event really actually happens.\n",
    "\n",
    "Below is a simulation to see if my derivation has mistakes. --- The simulation does not contradict my derivation."
   ]
  },
  {
   "cell_type": "code",
   "execution_count": null,
   "metadata": {},
   "outputs": [],
   "source": [
    "import numpy as np\n",
    "\n",
    "p = 0.824\n",
    "q = 0.78\n",
    "size = 1000000\n",
    "occurences = np.random.binomial(n=1, p=p, size=size)\n",
    "non_occurences = 1 - occurences\n",
    "earnings = np.sum(occurences * (1 - q))\n",
    "earnings += np.sum(non_occurences * (-q))\n",
    "avg_earnings = earnings / size\n",
    "avg_earnings\n",
    "\n",
    "my_bs = np.sum((p - occurences )**2) / size\n",
    "my_bs\n",
    "\n",
    "market_bs = np.sum((q - occurences )**2) / size\n",
    "market_bs\n",
    "\n",
    "expected_profit_via_bs = np.sqrt(market_bs - my_bs)\n",
    "print(f\"Market BS: {market_bs} \\nForecaster BS: {my_bs}\")\n",
    "print(avg_earnings, expected_profit_via_bs)"
   ]
  },
  {
   "cell_type": "markdown",
   "metadata": {},
   "source": [
    "A larger simulation:   \n",
    "The true probability of the event will be from a distribution. The market's and the forecaster's probability will be a noisy estimate of the true probability. There will be buy and sell options.\n",
    "This simulation will not include order books and moving a market's probability. Also no transaction cost or risk of ruin will be modelled.\n",
    "\n",
    "\n",
    "This simulation shows that the expected_profit from Brier score difference math does not hold. But simulating a bunch of different possibilities shows, that there is a linear relationship between the sqaureroot of the difference in Brier score and the actual average profit even when you're not perfectly calibrated. A linear relationship with roughly b=-0.002 and m=0.97. This changes a bit depending on how badly you and the market are calibrated.. But taking those numbers: when expecting a 7% average profit, you'd make an actual roughly 6.59% profit."
   ]
  },
  {
   "cell_type": "code",
   "execution_count": null,
   "metadata": {},
   "outputs": [],
   "source": [
    "import matplotlib.pyplot as plt\n",
    "import scipy.stats as stats\n",
    "\n",
    "def mean_v_to_a_b(mean, v):\n",
    "    a = mean * v\n",
    "    b = (1-mean) * v\n",
    "    return a, b\n",
    "\n",
    "x = np.linspace(0, 1, 1000)\n",
    "beta = stats.beta.pdf(x, a=5, b=5)\n",
    "# plt.plot(x, beta)"
   ]
  },
  {
   "cell_type": "code",
   "execution_count": null,
   "metadata": {},
   "outputs": [],
   "source": [
    "\n",
    "\n",
    "n_bets = 1000000\n",
    "true_p = np.random.beta(a=1, b=1, size=n_bets) #np.array([0.8] * n_bets)\n",
    "\n",
    "# beta_concentration is a parameter that specifies the shape of the beta distribution. It's equivalent to having seen beta_concentration many coin flips in the beta-bernoulli Bayesian estimation.\n",
    "market_beta_concentration = 50\n",
    "market_a, market_b = mean_v_to_a_b(mean=true_p, v=market_beta_concentration)\n",
    "market_p = np.random.beta(market_a, market_b)\n",
    "\n",
    "forecaster_beta_concentration = 100\n",
    "forecaster_a, forecaster_b = mean_v_to_a_b(mean=true_p, v=forecaster_beta_concentration)\n",
    "forecaster_p = np.random.beta(forecaster_a, forecaster_b)\n",
    "\n",
    "\n",
    "# True means forecaster buys, False means forecaster sells/buys \"No\"\n",
    "buy_sell = forecaster_p > market_p\n",
    "\n",
    "resolved_positive = (np.random.binomial(n=1, p=true_p) != 0)\n",
    "\n",
    "expenses = np.sum(market_p * buy_sell)\n",
    "expenses += np.sum((1-market_p) * ~buy_sell) \n",
    "# rewards = np.sum(resolved_positive[buy_sell]) + np.sum(~resolved_positive[~buy_sell])\n",
    "rewards = np.sum(resolved_positive == buy_sell)\n",
    "\n",
    "profit = rewards - expenses\n",
    "avg_profit = profit / n_bets\n",
    "\n",
    "best_bs = np.sum((true_p - resolved_positive)**2) / n_bets\n",
    "forecaster_bs = np.sum((forecaster_p - resolved_positive)**2) / n_bets\n",
    "market_bs = np.sum((market_p - resolved_positive)**2) / n_bets\n",
    "\n",
    "print(best_bs, forecaster_bs, market_bs)\n",
    "expected_profit_via_bs = np.sqrt(market_bs - forecaster_bs)\n",
    "print(avg_profit, expected_profit_via_bs)"
   ]
  },
  {
   "cell_type": "code",
   "execution_count": null,
   "metadata": {},
   "outputs": [],
   "source": [
    "def profit_exp(a, b):\n",
    "    n_bets = 1000000\n",
    "    true_p = np.random.beta(a=a, b=b, size=n_bets) #np.array([0.8] * n_bets)\n",
    "\n",
    "    # beta_concentration is a parameter that specifies the shape of the beta distribution. It's equivalent to having seen beta_concentration many coin flips in the beta-bernoulli Bayesian estimation.\n",
    "    market_beta_concentration = 10\n",
    "    market_a, market_b = mean_v_to_a_b(mean=true_p, v=market_beta_concentration)\n",
    "    market_p = np.random.beta(market_a, market_b)\n",
    "\n",
    "    forecaster_beta_concentration = 50\n",
    "    forecaster_a, forecaster_b = mean_v_to_a_b(mean=true_p, v=forecaster_beta_concentration)\n",
    "    forecaster_p = np.random.beta(forecaster_a, forecaster_b)\n",
    "\n",
    "\n",
    "    # True means forecaster buys, False means forecaster sells/buys \"No\"\n",
    "    buy_sell = forecaster_p > market_p\n",
    "\n",
    "    resolved_positive = (np.random.binomial(n=1, p=true_p) != 0)\n",
    "\n",
    "    expenses = np.sum(market_p * buy_sell)\n",
    "    expenses += np.sum((1-market_p) * ~buy_sell) \n",
    "    # rewards = np.sum(resolved_positive[buy_sell]) + np.sum(~resolved_positive[~buy_sell])\n",
    "    rewards = np.sum(resolved_positive == buy_sell)\n",
    "\n",
    "    profit = rewards - expenses\n",
    "    avg_profit = profit / n_bets\n",
    "\n",
    "    best_bs = np.sum((true_p - resolved_positive)**2) / n_bets\n",
    "    forecaster_bs = np.sum((forecaster_p - resolved_positive)**2) / n_bets\n",
    "    market_bs = np.sum((market_p - resolved_positive)**2) / n_bets\n",
    "\n",
    "    expected_profit_via_bs = np.sqrt(market_bs - forecaster_bs)\n",
    "    return avg_profit, expected_profit_via_bs"
   ]
  },
  {
   "cell_type": "code",
   "execution_count": null,
   "metadata": {},
   "outputs": [],
   "source": [
    "avg_profits = []\n",
    "expected_profits = []\n",
    "for i in range(200):\n",
    "    a,b = np.random.uniform(0.00000001,250, size=2)\n",
    "    \n",
    "    avg_profit, expected_profit_via_bs = profit_exp(a, b)\n",
    "    avg_profits.append(avg_profit)\n",
    "    expected_profits.append(expected_profit_via_bs)"
   ]
  },
  {
   "cell_type": "code",
   "execution_count": null,
   "metadata": {},
   "outputs": [],
   "source": [
    "expected_profits[1]"
   ]
  },
  {
   "cell_type": "code",
   "execution_count": null,
   "metadata": {},
   "outputs": [],
   "source": [
    "plt.scatter(expected_profits, avg_profits)\n",
    "plt.xlim([0, np.max(expected_profits)+0.005])\n",
    "plt.ylim([0, np.max(expected_profits)+0.005])"
   ]
  },
  {
   "cell_type": "code",
   "execution_count": null,
   "metadata": {},
   "outputs": [],
   "source": [
    "from numpy.polynomial.polynomial import polyfit\n",
    "b, m = polyfit(expected_profits, avg_profits, 1)\n",
    "print(b, m)"
   ]
  },
  {
   "cell_type": "code",
   "execution_count": null,
   "metadata": {},
   "outputs": [],
   "source": [
    "x = np.linspace(0,1,1000)\n",
    "y = x**2\n",
    "y[int(0.040662*1000)]"
   ]
  },
  {
   "cell_type": "code",
   "execution_count": null,
   "metadata": {},
   "outputs": [],
   "source": []
  },
  {
   "cell_type": "code",
   "execution_count": null,
   "metadata": {},
   "outputs": [],
   "source": [
    "a,b = mean_v_to_a_b(mean=0.8, v=10)\n",
    "print(a, b)\n",
    "x = np.linspace(0, 1, 1000)\n",
    "beta = stats.beta.pdf(x, a=a, b=b)\n",
    "plt.plot(x, beta)"
   ]
  },
  {
   "cell_type": "code",
   "execution_count": null,
   "metadata": {},
   "outputs": [],
   "source": []
  }
 ],
 "metadata": {
  "kernelspec": {
   "display_name": "venv_ai_forecasting",
   "language": "python",
   "name": "python3"
  },
  "language_info": {
   "codemirror_mode": {
    "name": "ipython",
    "version": 3
   },
   "file_extension": ".py",
   "mimetype": "text/x-python",
   "name": "python",
   "nbconvert_exporter": "python",
   "pygments_lexer": "ipython3"
  }
 },
 "nbformat": 4,
 "nbformat_minor": 2
}
