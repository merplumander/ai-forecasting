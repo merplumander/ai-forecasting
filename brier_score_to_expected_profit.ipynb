{
 "cells": [
  {
   "cell_type": "markdown",
   "metadata": {},
   "source": [
    "# Going from differences in Brier score to expected profit\n",
    "\n",
    "## Expected profit\n",
    "My probability is $p$.\n",
    "Market's probability is $q$.\n",
    "\n",
    "If you believe the event is more likely than the market does ($p>q$), you can buy contracts.   \n",
    "Payoff iff event occurs is: $1 - q$   \n",
    "Payoff iff event does not occur: $-q$\n",
    "\n",
    "\n",
    "Expected profit is:\n",
    "$p (1-q) + (1-p) (-q) = p - q$\n",
    "\n",
    "Reverse holds if ($q>p$). Then you sell contracts and the expected profit is $q - p$.\n",
    "\n",
    "So in general the expected profit is $|p - q|$"
   ]
  },
  {
   "cell_type": "markdown",
   "metadata": {},
   "source": [
    "Claim: expected profit is square root of differences in Brier score.\n",
    "$EP = \\sqrt{BS_{market} - BS_{you}}$\n",
    "if you are well calibrated. A.k.a. your probability $p$ is how often that event really actually happens.\n",
    "\n",
    "Below is a simulation to see if my derivation has mistakes. --- The simulation does not contradict my derivation."
   ]
  },
  {
   "cell_type": "code",
   "execution_count": null,
   "metadata": {},
   "outputs": [],
   "source": [
    "import numpy as np\n",
    "\n",
    "p = 0.824\n",
    "q = 0.78\n",
    "size = 1000000\n",
    "occurences = np.random.binomial(n=1, p=p, size=size)\n",
    "non_occurences = 1 - occurences\n",
    "earnings = np.sum(occurences * (1 - q))\n",
    "earnings += np.sum(non_occurences * (-q))\n",
    "avg_earnings = earnings / size\n",
    "avg_earnings\n",
    "\n",
    "my_bs = np.sum((p - occurences )**2) / size\n",
    "my_bs\n",
    "\n",
    "market_bs = np.sum((q - occurences )**2) / size\n",
    "market_bs\n",
    "\n",
    "expected_profit_via_bs = np.sqrt(market_bs - my_bs)\n",
    "print(f\"Market BS: {market_bs} \\nForecaster BS: {my_bs}\")\n",
    "print(avg_earnings, expected_profit_via_bs)"
   ]
  }
 ],
 "metadata": {
  "kernelspec": {
   "display_name": "venv_ai_forecasting",
   "language": "python",
   "name": "python3"
  },
  "language_info": {
   "codemirror_mode": {
    "name": "ipython",
    "version": 3
   },
   "file_extension": ".py",
   "mimetype": "text/x-python",
   "name": "python",
   "nbconvert_exporter": "python",
   "pygments_lexer": "ipython3"
  }
 },
 "nbformat": 4,
 "nbformat_minor": 2
}
